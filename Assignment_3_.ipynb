{
  "nbformat": 4,
  "nbformat_minor": 0,
  "metadata": {
    "colab": {
      "name": "Assignment 3 .ipynb",
      "provenance": [],
      "authorship_tag": "ABX9TyMg6pccSckZQ+cnBLh7d5KW",
      "include_colab_link": true
    },
    "kernelspec": {
      "name": "python3",
      "display_name": "Python 3"
    },
    "language_info": {
      "name": "python"
    }
  },
  "cells": [
    {
      "cell_type": "markdown",
      "metadata": {
        "id": "view-in-github",
        "colab_type": "text"
      },
      "source": [
        "<a href=\"https://colab.research.google.com/github/Sagarbade2001/Basics-of-Python_SPC/blob/main/Assignment_3_.ipynb\" target=\"_parent\"><img src=\"https://colab.research.google.com/assets/colab-badge.svg\" alt=\"Open In Colab\"/></a>"
      ]
    },
    {
      "cell_type": "code",
      "execution_count": 3,
      "metadata": {
        "colab": {
          "base_uri": "https://localhost:8080/",
          "height": 350
        },
        "id": "B1TOYJKR6PtH",
        "outputId": "41da635c-59d7-4ad4-d86a-07031d5769d0"
      },
      "outputs": [
        {
          "output_type": "display_data",
          "data": {
            "text/plain": [
              "<Figure size 720x360 with 1 Axes>"
            ],
            "image/png": "[encoded data removed]"
          },
          "metadata": {
            "needs_background": "light"
          }
        }
      ],
      "source": [
        "### ASSIGNMENT 3  \n",
        "## NAME - SAGAR BAGDE\n",
        "# ROLL NUMBER- 9149\n",
        "## QUESTION 33-40 \n",
        "\n",
        "## Q33 -\n",
        "import numpy as np\n",
        "import matplotlib.pyplot as plt\n",
        " \n",
        "  \n",
        "# creating the dataset\n",
        "data = {'2015':12.5, '2016':13.4, '2017':7.5,\n",
        "        '2018':20.1,'2019':16.5}\n",
        "years = list(data.keys())\n",
        "sales = list(data.values())\n",
        "  \n",
        "fig = plt.figure(figsize = (10, 5))\n",
        " \n",
        "# creating the bar plot\n",
        "plt.bar(years,sales, color ='maroon',\n",
        "        width = 0.4)\n",
        " \n",
        "plt.xlabel(\"years \")\n",
        "plt.ylabel(\"Anuual sales ( in lakhs Rs. ) \")\n",
        "plt.title(\"simple bar diagram for sales in respective years \")\n",
        "plt.show()"
      ]
    },
    {
      "cell_type": "code",
      "source": [
        "## Q34- \n",
        "\n",
        "t=[1,4,5,7,9]\n",
        "s=[8,12,13,5,8]\n",
        "plt.plot(t,s)"
      ],
      "metadata": {
        "colab": {
          "base_uri": "https://localhost:8080/",
          "height": 282
        },
        "id": "q7N2WpQ99n3x",
        "outputId": "a656ced8-2e83-41d8-b38d-dd2eae9dacb2"
      },
      "execution_count": 10,
      "outputs": [
        {
          "output_type": "execute_result",
          "data": {
            "text/plain": [
              "[<matplotlib.lines.Line2D at 0x7fa7fa3511d0>]"
            ]
          },
          "metadata": {},
          "execution_count": 10
        },
        {
          "output_type": "display_data",
          "data": {
            "text/plain": [
              "<Figure size 432x288 with 1 Axes>"
            ],
            "image/png": "[encoded data removed]"
          },
          "metadata": {
            "needs_background": "light"
          }
        }
      ]
    },
    {
      "cell_type": "code",
      "source": [
        "## Q35 - \n",
        "from scipy.stats import binom\n",
        "            \n",
        "import matplotlib.pyplot as plt\n",
        "\n",
        "\n",
        "dff=binom.rvs(20,0.3,size=100)\n",
        "print(dff)\n",
        "plt.boxplot(dff)\n",
        "\n"
      ],
      "metadata": {
        "colab": {
          "base_uri": "https://localhost:8080/",
          "height": 486
        },
        "id": "7fJ34zpyCeuS",
        "outputId": "053819fd-9812-4499-c6f4-e291a3bf19cb"
      },
      "execution_count": 22,
      "outputs": [
        {
          "output_type": "stream",
          "name": "stdout",
          "text": [
            "[ 6  4  5  8  6  5  8  4  4  4  4  5  7  5  9  6  7 10  6  3  7  1  6  7\n",
            "  9  6  6  9 10  7  7  9  8  5  7  5  6  6  4  8  6  6  5  9  2  5  7  4\n",
            "  7  4  2  5  8  5  4  6  4  5  5  3  6  6  6  6 10  3  2  5  5  2  3  6\n",
            "  3  6  7  5  9  5  8  7  5  4  4  5  9  7  5  4  9  8  7  8  8  5  5  2\n",
            "  5  4  3  7]\n"
          ]
        },
        {
          "output_type": "execute_result",
          "data": {
            "text/plain": [
              "{'boxes': [<matplotlib.lines.Line2D at 0x7fa7ebe061d0>],\n",
              " 'caps': [<matplotlib.lines.Line2D at 0x7fa7ebe0e250>,\n",
              "  <matplotlib.lines.Line2D at 0x7fa7ebe0e790>],\n",
              " 'fliers': [<matplotlib.lines.Line2D at 0x7fa7ebe15290>],\n",
              " 'means': [],\n",
              " 'medians': [<matplotlib.lines.Line2D at 0x7fa7ebe0ed10>],\n",
              " 'whiskers': [<matplotlib.lines.Line2D at 0x7fa7ebe06790>,\n",
              "  <matplotlib.lines.Line2D at 0x7fa7ebe06cd0>]}"
            ]
          },
          "metadata": {},
          "execution_count": 22
        },
        {
          "output_type": "display_data",
          "data": {
            "text/plain": [
              "<Figure size 432x288 with 1 Axes>"
            ],
            "image/png": "[encoded data removed]"
          },
          "metadata": {
            "needs_background": "light"
          }
        }
      ]
    },
    {
      "cell_type": "code",
      "source": [
        "#Q 36\n",
        "from scipy.stats import norm\n",
        "data_norm = norm.rvs(size=100)\n",
        "plt.hist(data_norm,bins=20)\n",
        "plt.title(\" normal histogram \")\n",
        "\n"
      ],
      "metadata": {
        "colab": {
          "base_uri": "https://localhost:8080/",
          "height": 298
        },
        "id": "ZfDSAfTmG9EA",
        "outputId": "a9a26ad7-9698-4c0e-e15e-be03ad0c8e7b"
      },
      "execution_count": 70,
      "outputs": [
        {
          "output_type": "execute_result",
          "data": {
            "text/plain": [
              "Text(0.5, 1.0, ' normal histogram ')"
            ]
          },
          "metadata": {},
          "execution_count": 70
        },
        {
          "output_type": "display_data",
          "data": {
            "text/plain": [
              "<Figure size 432x288 with 1 Axes>"
            ],
            "image/png": "[encoded data removed]"
          },
          "metadata": {
            "needs_background": "light"
          }
        }
      ]
    },
    {
      "cell_type": "code",
      "source": [
        "# Q 37\n",
        "\n",
        "def printGP(a, r, n):\n",
        "    sum=0\n",
        "    for i in range(0, n):\n",
        "        curr_term = a * pow(r, i)\n",
        "        sum=sum+curr_term\n",
        "    print(sum, end =\" \")   \n",
        "a=1\n",
        "r=0.2\n",
        "n=100\n",
        "printGP(a,r,n)        "
      ],
      "metadata": {
        "colab": {
          "base_uri": "https://localhost:8080/"
        },
        "id": "18wXyu72N3ra",
        "outputId": "f7593ee4-edfe-492e-e2df-cf569641aee4"
      },
      "execution_count": 80,
      "outputs": [
        {
          "output_type": "stream",
          "name": "stdout",
          "text": [
            "1.25 "
          ]
        }
      ]
    },
    {
      "cell_type": "code",
      "source": [
        "#Q38\n",
        "# area of triangle \n",
        "import math\n",
        "def area(a,b,c):\n",
        "  s = (a + b + c)/2\n",
        "  area = (s*(s-a)*(s-b)*(s-c)) ** 0.5 \n",
        "  print('The area of the triangle is %0.2f' %area) \n",
        "a=5\n",
        "b=7\n",
        "c=10\n",
        "area(a,b,c)\n"
      ],
      "metadata": {
        "colab": {
          "base_uri": "https://localhost:8080/"
        },
        "id": "krIdNwylSK4P",
        "outputId": "c3438765-1b3b-4164-8aff-db0f374510f4"
      },
      "execution_count": 88,
      "outputs": [
        {
          "output_type": "stream",
          "name": "stdout",
          "text": [
            "The area of the triangle is 16.25\n"
          ]
        }
      ]
    },
    {
      "cell_type": "code",
      "source": [
        "#Q39\n",
        "def power(x,n):\n",
        "  p= pow(x,n)\n",
        "  print(p)\n",
        "x=2\n",
        "n=5\n",
        "power(x,n)  "
      ],
      "metadata": {
        "colab": {
          "base_uri": "https://localhost:8080/"
        },
        "id": "gHA7USHkUNHo",
        "outputId": "13663c45-3801-4963-8286-b7837c24f9ce"
      },
      "execution_count": 89,
      "outputs": [
        {
          "output_type": "stream",
          "name": "stdout",
          "text": [
            "32\n"
          ]
        }
      ]
    },
    {
      "cell_type": "code",
      "source": [
        "#Q40\n",
        "def circle(a):\n",
        "  area=math.pi*a*a\n",
        "  print(\" the area is \",a)\n",
        "  cir=2*math.pi*a\n",
        "  print(\" the circumference is \",cir)\n",
        "a=0.5\n",
        "circle(a)  \n",
        "  "
      ],
      "metadata": {
        "colab": {
          "base_uri": "https://localhost:8080/"
        },
        "id": "zL-BW-s-Ums5",
        "outputId": "6ea3a529-b4cf-40c4-d830-19f18b8c4f80"
      },
      "execution_count": 93,
      "outputs": [
        {
          "output_type": "stream",
          "name": "stdout",
          "text": [
            " the area is  0.5\n",
            " the circumference is  3.141592653589793\n"
          ]
        }
      ]
    }
  ]
}