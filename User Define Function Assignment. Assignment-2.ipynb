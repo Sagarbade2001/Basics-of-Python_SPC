{
 "cells": [
  {
   "cell_type": "markdown",
   "id": "2132d19e",
   "metadata": {},
   "source": [
    "Q1.Write a Python User Define Function to reverse a string\n"
   ]
  },
  {
   "cell_type": "code",
   "execution_count": 26,
   "id": "d5e5c429",
   "metadata": {},
   "outputs": [
    {
     "name": "stdout",
     "output_type": "stream",
     "text": [
      "nohtyp\n"
     ]
    }
   ],
   "source": [
    "##Solution Q1. \n",
    "\"\"\"Write Solution Here\"\"\""
   ]
  },
  {
   "cell_type": "markdown",
   "id": "de3f586a",
   "metadata": {},
   "source": [
    "Q1.\n",
    "Hint :If I Pass the Parameter >> \"python\" My output will be >> \"nohtyp\""
   ]
  },
  {
   "cell_type": "markdown",
   "id": "4fc2df6e",
   "metadata": {},
   "source": [
    "Q2. Write a Python min_max function which will return Min, Max of 4 inputs from the user."
   ]
  },
  {
   "cell_type": "code",
   "execution_count": null,
   "id": "f16c020b",
   "metadata": {},
   "outputs": [],
   "source": [
    "##Solution Q2. \n",
    "\"\"\"Write Solution Here\"\"\""
   ]
  },
  {
   "cell_type": "markdown",
   "id": "f3e92aa7",
   "metadata": {},
   "source": [
    "Q3. Write a Python function to sum 4 inputs from the user."
   ]
  },
  {
   "cell_type": "code",
   "execution_count": null,
   "id": "34ad3d62",
   "metadata": {},
   "outputs": [],
   "source": [
    "##Solution Q3. \n",
    "\"\"\"Write Solution Here\"\"\""
   ]
  },
  {
   "cell_type": "markdown",
   "id": "213d9d56",
   "metadata": {},
   "source": [
    "#Q4. Find out the Command which will return you number of local variables from the user define function."
   ]
  },
  {
   "cell_type": "code",
   "execution_count": null,
   "id": "e5ba129a",
   "metadata": {},
   "outputs": [],
   "source": [
    "##Solution Q4. \n",
    "\"\"\"Write Solution Here\"\"\""
   ]
  },
  {
   "cell_type": "markdown",
   "id": "f9f56519",
   "metadata": {},
   "source": [
    "Q5.Write Python Function to get even number from the list. \n",
    "List len must be equal to 8."
   ]
  },
  {
   "cell_type": "code",
   "execution_count": null,
   "id": "d09e9003",
   "metadata": {},
   "outputs": [],
   "source": [
    "##Solution Q5. \n",
    "\"\"\"Write Solution Here\"\"\""
   ]
  },
  {
   "cell_type": "code",
   "execution_count": null,
   "id": "d2ff2fe0",
   "metadata": {},
   "outputs": [],
   "source": []
  }
 ],
 "metadata": {
  "kernelspec": {
   "display_name": "Python 3 (ipykernel)",
   "language": "python",
   "name": "python3"
  },
  "language_info": {
   "codemirror_mode": {
    "name": "ipython",
    "version": 3
   },
   "file_extension": ".py",
   "mimetype": "text/x-python",
   "name": "python",
   "nbconvert_exporter": "python",
   "pygments_lexer": "ipython3",
   "version": "3.8.8"
  }
 },
 "nbformat": 4,
 "nbformat_minor": 5
}
