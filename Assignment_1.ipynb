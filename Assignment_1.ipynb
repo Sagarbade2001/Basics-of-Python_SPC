{
  "nbformat": 4,
  "nbformat_minor": 0,
  "metadata": {
    "colab": {
      "name": "Assignment-1.ipynb",
      "provenance": [],
      "collapsed_sections": [],
      "include_colab_link": true
    },
    "kernelspec": {
      "name": "python3",
      "display_name": "Python 3"
    },
    "language_info": {
      "name": "python"
    }
  },
  "cells": [
    {
      "cell_type": "markdown",
      "metadata": {
        "id": "view-in-github",
        "colab_type": "text"
      },
      "source": [
        "<a href=\"https://colab.research.google.com/github/Sagarbade2001/Basics-of-Python_SPC/blob/main/Assignment_1.ipynb\" target=\"_parent\"><img src=\"https://colab.research.google.com/assets/colab-badge.svg\" alt=\"Open In Colab\"/></a>"
      ]
    },
    {
      "cell_type": "code",
      "execution_count": 5,
      "metadata": {
        "colab": {
          "base_uri": "https://localhost:8080/"
        },
        "id": "O_cXF-W29IRo",
        "outputId": "c3122284-301f-43b1-e3f6-c83fc1d16cb4"
      },
      "outputs": [
        {
          "output_type": "stream",
          "name": "stdout",
          "text": [
            "['SAGAR BAGDE', 9149, 'TYBSC']\n",
            "['SP college', 'pune', 'tilak road']\n",
            "['SAGAR BAGDE', 9149, 'TYBSC', 'statistics']\n",
            "['SAGAR BAGDE', 9149, 'TYBSC', 'statistics', 1, 2, 3]\n",
            "['SAGAR BAGDE', 9149, 'TYBSC', 'statistics', 5, 1, 2, 3]\n",
            "['SAGAR BAGDE', 9149, 'TYBSC', 'statistics', 5, 1, 3]\n",
            "['SAGAR BAGDE', 9149, 'TYBSC', 5, 1, 3]\n",
            "['SAGAR BAGDE', 9149, 'TYBSC', 5]\n",
            "[3, 1, 5, 'TYBSC', 9149, 'SAGAR BAGDE']\n",
            "6\n",
            "[3, 1, 5, 'TYBSC', 9149, 'SAGAR BAGDE', 5]\n",
            "2\n",
            "[3, 1, 5, 'TYBSC', 9149, 'SAGAR BAGDE', 5, 'SP college', 'pune', 'tilak road']\n",
            "[3, 1, 5, 'TYBSC', 9149, 'SAGAR BAGDE', 5, 3, 1, 5, 'TYBSC', 9149, 'SAGAR BAGDE', 5]\n",
            "[]\n",
            "['SP college', 'pune', 'tilak road']\n",
            "['SP college', 'pune', 'tilak road', 'swargte']\n",
            "['SP college', 'pune', 'tilak road', 'swargte', 1, 2, 3]\n",
            "['SP college', 'pune', 'tilak road', 'swargte', 5, 1, 2, 3]\n",
            "['SP college', 'pune', 'tilak road', 'swargte', 5, 1, 3]\n",
            "['SP college', 'pune', 'tilak road', 5, 1, 3]\n",
            "[]\n",
            "[3, 1, 5, 'tilak road', 'pune', 'SP college']\n",
            "6\n",
            "[3, 1, 5, 'tilak road', 'pune', 'SP college', 5]\n",
            "2\n",
            "[3, 1, 5, 'tilak road', 'pune', 'SP college', 5]\n",
            "[3, 1, 5, 'tilak road', 'pune', 'SP college', 5, 3, 1, 5, 'tilak road', 'pune', 'SP college', 5]\n",
            "[]\n"
          ]
        }
      ],
      "source": [
        "### Assignment 1 \n",
        "## sagar bagde , roll no - 9149\n",
        "A=[\"SAGAR BAGDE\",9149,\"TYBSC\"]\n",
        "B=[\"SP college\",\"pune\",\"tilak road\"]\n",
        "\n",
        "print(A)\n",
        "print(B)\n",
        "A.append(\"statistics\")\n",
        "print(A)\n",
        "A.extend([1,2,3])\n",
        "print(A)\n",
        "A.insert(4,5)\n",
        "print(A)\n",
        "A.remove(2)\n",
        "print(A)\n",
        "A.pop(3)\n",
        "print(A)\n",
        "print(A[:4])      #slice\n",
        "A.reverse()\n",
        "print(A)\n",
        "print(len(A))\n",
        "A.append(5)\n",
        "print(A)\n",
        "print(A.count(5))\n",
        "print(A+B)    #concatenate\n",
        "print(A*2)\n",
        "A.clear()\n",
        "print(A)\n",
        "\n",
        "\n",
        "\n",
        "print(B)\n",
        "B.append(\"swargte\")\n",
        "print(B)\n",
        "B.extend([1,2,3])\n",
        "print(B)\n",
        "B.insert(4,5)\n",
        "print(B)\n",
        "B.remove(2)\n",
        "print(B)\n",
        "B.pop(3)\n",
        "print(B)\n",
        "print(A[:4])      #slice\n",
        "B.reverse()\n",
        "print(B)\n",
        "print(len(B))\n",
        "B.append(5)\n",
        "print(B)\n",
        "print(B.count(5))\n",
        "print(A+B)    #concatenate\n",
        "print(B*2)\n",
        "B.clear()\n",
        "print(B)\n",
        "\n"
      ]
    },
    {
      "cell_type": "code",
      "source": [
        ""
      ],
      "metadata": {
        "id": "bn5HfFZBJOKB"
      },
      "execution_count": null,
      "outputs": []
    },
    {
      "cell_type": "code",
      "source": [
        "a=(\"SAGAR BAGDE\",9149,\"TYBSC\")\n",
        "b=(\"SP college\",\"pune\",\"tilak road\")\n",
        "\n",
        "print(a)\n",
        "print(b)\n",
        "print(type(a))\n",
        "print(type(b))\n",
        "print(a[2])\n",
        "print(a+b)\n",
        "print(a*3)\n",
        "print(9149 in a)\n",
        "print(5 in a)\n",
        "c=(a,b)\n",
        "print(c)\n",
        "print(a[1:])\n",
        "print(len(a))\n",
        "\n"
      ],
      "metadata": {
        "colab": {
          "base_uri": "https://localhost:8080/"
        },
        "id": "cMUCPAeFEoZx",
        "outputId": "23b17e10-deec-494d-e31f-099a5fae7125"
      },
      "execution_count": 4,
      "outputs": [
        {
          "output_type": "stream",
          "name": "stdout",
          "text": [
            "('SAGAR BAGDE', 9149, 'TYBSC')\n",
            "('SP college', 'pune', 'tilak road')\n",
            "<class 'tuple'>\n",
            "<class 'tuple'>\n",
            "TYBSC\n",
            "('SAGAR BAGDE', 9149, 'TYBSC', 'SP college', 'pune', 'tilak road')\n",
            "('SAGAR BAGDE', 9149, 'TYBSC', 'SAGAR BAGDE', 9149, 'TYBSC', 'SAGAR BAGDE', 9149, 'TYBSC')\n",
            "True\n",
            "False\n",
            "(('SAGAR BAGDE', 9149, 'TYBSC'), ('SP college', 'pune', 'tilak road'))\n",
            "(9149, 'TYBSC')\n",
            "3\n"
          ]
        }
      ]
    },
    {
      "cell_type": "code",
      "source": [
        ""
      ],
      "metadata": {
        "id": "921wWy6VEuDo"
      },
      "execution_count": null,
      "outputs": []
    },
    {
      "cell_type": "code",
      "source": [
        ""
      ],
      "metadata": {
        "id": "IRzgUnM7EuKt"
      },
      "execution_count": null,
      "outputs": []
    }
  ]
}